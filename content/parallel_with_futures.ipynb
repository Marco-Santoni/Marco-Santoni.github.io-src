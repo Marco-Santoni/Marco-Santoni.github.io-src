{
 "cells": [
  {
   "cell_type": "markdown",
   "metadata": {},
   "source": [
    "# Going Parallel with concurrent.futures\n",
    "\n",
    "Parallel computation can be implemented via the [concurrent.futures](https://docs.python.org/3/library/concurrent.futures.html) module. The module is part of the standard library since Python `3.2`.\n",
    "\n",
    "Let's look at a simple example."
   ]
  },
  {
   "cell_type": "code",
   "execution_count": 3,
   "metadata": {
    "collapsed": true
   },
   "outputs": [],
   "source": [
    "from time import sleep\n",
    "\n",
    "def slow_function(x):\n",
    "    print('start: {}'.format(x))\n",
    "    sleep(5)\n",
    "    print('done: {}'.format(x))\n",
    "    return x**2"
   ]
  },
  {
   "cell_type": "markdown",
   "metadata": {},
   "source": [
    "We defined `slow_function`, a function simulating a heavy computation (taking 5 seconds). We now run it in the most straightforward way."
   ]
  },
  {
   "cell_type": "code",
   "execution_count": 8,
   "metadata": {
    "collapsed": false
   },
   "outputs": [
    {
     "name": "stdout",
     "output_type": "stream",
     "text": [
      "start: 0\n",
      "done: 0\n",
      "start: 1\n",
      "done: 1\n",
      "start: 2\n",
      "done: 2\n",
      "start: 3\n",
      "done: 3\n"
     ]
    }
   ],
   "source": [
    "numbers = range(4)\n",
    "\n",
    "for n in numbers:\n",
    "    slow_function(n)"
   ]
  },
  {
   "cell_type": "markdown",
   "metadata": {},
   "source": [
    "So, the functions are done one at a time as expected. Let's measure how long this take."
   ]
  },
  {
   "cell_type": "code",
   "execution_count": 9,
   "metadata": {
    "collapsed": false
   },
   "outputs": [
    {
     "name": "stdout",
     "output_type": "stream",
     "text": [
      "start: 0\n",
      "done: 0\n",
      "start: 1\n",
      "done: 1\n",
      "start: 2\n",
      "done: 2\n",
      "start: 3\n",
      "done: 3\n",
      "20.022506713867188 seconds\n"
     ]
    }
   ],
   "source": [
    "import time\n",
    "\n",
    "numbers = range(4)\n",
    "\n",
    "start_time = time.time()\n",
    "\n",
    "for n in numbers:\n",
    "    slow_function(n)\n",
    "\n",
    "print(time.time() - start_time, 'seconds')"
   ]
  },
  {
   "cell_type": "markdown",
   "metadata": {},
   "source": [
    "It takes `20` seconds to run `4` functions. The reason is they are all run on one single core. Now, we refactor the execution, and we make it **parallel**. "
   ]
  },
  {
   "cell_type": "code",
   "execution_count": 11,
   "metadata": {
    "collapsed": false
   },
   "outputs": [
    {
     "name": "stdout",
     "output_type": "stream",
     "text": [
      "start: 0\n",
      "start: 1\n",
      "done: 1\n",
      "done: 0\n",
      "start: 3\n",
      "start: 2\n",
      "done: 2\n",
      "done: 3\n"
     ]
    }
   ],
   "source": [
    "from concurrent.futures import ProcessPoolExecutor\n",
    "\n",
    "with ProcessPoolExecutor() as executor:\n",
    "    for n in numbers:\n",
    "        f = executor.submit(slow_function, n)"
   ]
  },
  {
   "cell_type": "markdown",
   "metadata": {},
   "source": [
    "I am running these lines on a **dual-core** laptop. You can see that, indeed, the two cores are used simultaneously. The first two iterations are launched at the same time. Now, how much time do you expect we saved?"
   ]
  },
  {
   "cell_type": "code",
   "execution_count": 12,
   "metadata": {
    "collapsed": false
   },
   "outputs": [
    {
     "name": "stdout",
     "output_type": "stream",
     "text": [
      "start: 0\n",
      "start: 1\n",
      "done: 0\n",
      "start: 2\n",
      "done: 1\n",
      "start: 3\n",
      "done: 2\n",
      "done: 3\n",
      "10.159396648406982 seconds\n"
     ]
    }
   ],
   "source": [
    "start_time = time.time()\n",
    "\n",
    "with ProcessPoolExecutor() as executor:\n",
    "    for n in numbers:\n",
    "        f = executor.submit(slow_function, n)\n",
    "\n",
    "print(time.time() - start_time, 'seconds')"
   ]
  },
  {
   "cell_type": "markdown",
   "metadata": {},
   "source": [
    "Nice, the run-time was halved. It makes sense as we splitted the computation across two cores."
   ]
  }
 ],
 "metadata": {
  "kernelspec": {
   "display_name": "Python 3",
   "language": "python",
   "name": "python3"
  },
  "language_info": {
   "codemirror_mode": {
    "name": "ipython",
    "version": 3
   },
   "file_extension": ".py",
   "mimetype": "text/x-python",
   "name": "python",
   "nbconvert_exporter": "python",
   "pygments_lexer": "ipython3",
   "version": "3.5.1"
  }
 },
 "nbformat": 4,
 "nbformat_minor": 0
}
